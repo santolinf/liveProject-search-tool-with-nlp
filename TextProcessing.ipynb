{
 "cells": [
  {
   "cell_type": "code",
   "source": [
    "# Text processing using spaCy library\n",
    "import json\n",
    "import spacy\n",
    "\n",
    "nlp = spacy.load(\"en_core_web_sm\")"
   ],
   "metadata": {
    "ExecuteTime": {
     "end_time": "2024-11-19T17:18:52.424997Z",
     "start_time": "2024-11-19T17:18:50.235085Z"
    }
   },
   "id": "6253c927324011c7",
   "outputs": [],
   "execution_count": 1
  },
  {
   "metadata": {
    "collapsed": false,
    "ExecuteTime": {
     "end_time": "2024-11-19T17:18:52.456335Z",
     "start_time": "2024-11-19T17:18:52.434878Z"
    }
   },
   "cell_type": "code",
   "source": [
    "# Create a Python function that takes in a text string, performs all operations described in the previous step, and outputs a list of tokens (lemmas).\n",
    "def tokenize(text):\n",
    "    assert type(text) == str\n",
    "    text = text.lower()\n",
    "\n",
    "    doc = nlp(text)\n",
    "    return [token.lemma_ for token in doc if not token.is_stop and not token.is_punct]"
   ],
   "id": "e411eab5e48a6e33",
   "outputs": [],
   "execution_count": 2
  },
  {
   "metadata": {
    "ExecuteTime": {
     "end_time": "2024-11-19T17:18:52.940249Z",
     "start_time": "2024-11-19T17:18:52.927647Z"
    }
   },
   "cell_type": "code",
   "source": [
    "# Input docs\n",
    "with open(\"data/data.json\", \"r\", encoding=\"utf-8\") as f:\n",
    "    dict_list = json.load(f)\n",
    "\n",
    "assert type(dict_list) == list\n",
    "assert type(dict_list[0]) == dict"
   ],
   "id": "5e3acf021b7d3ddb",
   "outputs": [],
   "execution_count": 3
  },
  {
   "metadata": {
    "ExecuteTime": {
     "end_time": "2024-11-19T17:18:54.746661Z",
     "start_time": "2024-11-19T17:18:52.978936Z"
    }
   },
   "cell_type": "code",
   "source": [
    "# Use this function to preprocess all text documents in the dataset (text field only), and add the resulting lists to the dictionaries from step above\n",
    "for _dict in dict_list:\n",
    "    tokenized_text = tokenize(_dict[\"text\"])\n",
    "    _dict[\"tokenized_text\"] = tokenized_text\n",
    "\n",
    "# Output docs\n",
    "with open(\"data/tokenized_data.json\", mode=\"w\", encoding=\"utf-8\") as write_file:\n",
    "    json.dump(dict_list, write_file)"
   ],
   "id": "ec719852a34e6af4",
   "outputs": [],
   "execution_count": 4
  }
 ],
 "metadata": {
  "kernelspec": {
   "display_name": "Python 3 (ipykernel)",
   "language": "python",
   "name": "python3"
  },
  "language_info": {
   "codemirror_mode": {
    "name": "ipython",
    "version": 3
   },
   "file_extension": ".py",
   "mimetype": "text/x-python",
   "name": "python",
   "nbconvert_exporter": "python",
   "pygments_lexer": "ipython3",
   "version": "3.10.7"
  }
 },
 "nbformat": 4,
 "nbformat_minor": 5
}
